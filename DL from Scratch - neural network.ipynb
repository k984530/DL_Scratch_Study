{
 "cells": [
  {
   "cell_type": "code",
   "execution_count": 2,
   "id": "0f73b68b",
   "metadata": {},
   "outputs": [],
   "source": [
    "#3.2 활성화 함수\n",
    "\n",
    "def step_function(x):\n",
    "    if x>0:\n",
    "        return 1\n",
    "    else:\n",
    "        return 0"
   ]
  },
  {
   "cell_type": "code",
   "execution_count": 14,
   "id": "753f5722",
   "metadata": {},
   "outputs": [],
   "source": [
    "def step_function(x):\n",
    "    y = x>0\n",
    "    return y.astype(np.int32)"
   ]
  },
  {
   "cell_type": "code",
   "execution_count": 15,
   "id": "844a7760",
   "metadata": {},
   "outputs": [],
   "source": [
    "import numpy as np\n",
    "x = np.array([-1.0, 1.0, 2.0])\n",
    "y = x > 0"
   ]
  },
  {
   "cell_type": "code",
   "execution_count": 16,
   "id": "71fb9a64",
   "metadata": {},
   "outputs": [],
   "source": [
    "y = y.astype(np.int32)"
   ]
  },
  {
   "cell_type": "code",
   "execution_count": 17,
   "id": "3a3e8fce",
   "metadata": {},
   "outputs": [
    {
     "data": {
      "image/png": "[encoded data removed]",
      "text/plain": [
       "<Figure size 432x288 with 1 Axes>"
      ]
     },
     "metadata": {
      "needs_background": "light"
     },
     "output_type": "display_data"
    }
   ],
   "source": [
    "import matplotlib.pylab as plt\n",
    "x = np.arange(-5.0,5.0,0.1)\n",
    "y = step_function(x)\n",
    "plt.plot(x,y)\n",
    "plt.ylim(-0.1,1.1)\n",
    "plt.show()"
   ]
  },
  {
   "cell_type": "code",
   "execution_count": 18,
   "id": "02666f1c",
   "metadata": {},
   "outputs": [],
   "source": [
    "def sigmoid(x):\n",
    "    return 1 / (1+np.exp(-x))"
   ]
  },
  {
   "cell_type": "code",
   "execution_count": 19,
   "id": "02608c86",
   "metadata": {},
   "outputs": [
    {
     "name": "stdout",
     "output_type": "stream",
     "text": [
      "[0.26894142 0.73105858 0.88079708]\n"
     ]
    }
   ],
   "source": [
    "x = np.array([-1.0,1.0,2.0])\n",
    "print(sigmoid(x))"
   ]
  },
  {
   "cell_type": "code",
   "execution_count": 20,
   "id": "207364c8",
   "metadata": {},
   "outputs": [
    {
     "data": {
      "image/png": "[encoded data removed]",
      "text/plain": [
       "<Figure size 432x288 with 1 Axes>"
      ]
     },
     "metadata": {
      "needs_background": "light"
     },
     "output_type": "display_data"
    }
   ],
   "source": [
    "x = np.arange(-5.0, 5.0, 0.1)\n",
    "y = sigmoid(x)\n",
    "plt.plot(x,y)\n",
    "plt.ylim(-0.1, 1.1) # y축 범위 지정\n",
    "plt.show()"
   ]
  },
  {
   "cell_type": "code",
   "execution_count": 27,
   "id": "aaad2383",
   "metadata": {},
   "outputs": [
    {
     "data": {
      "image/png": "[encoded data removed]",
      "text/plain": [
       "<Figure size 432x288 with 1 Axes>"
      ]
     },
     "metadata": {
      "needs_background": "light"
     },
     "output_type": "display_data"
    }
   ],
   "source": [
    "x = np.arange(-5.0,5.0,0.1)\n",
    "y_step = step_function(x)\n",
    "y_sig = sigmoid(x)\n",
    "plt.plot(x,y_step,linestyle='-',label='step_func')\n",
    "plt.plot(x,y_sig,linestyle='--',label='sigmoid')\n",
    "plt.ylim(-0.1,1.1)\n",
    "plt.legend()\n",
    "plt.show()"
   ]
  },
  {
   "cell_type": "code",
   "execution_count": 28,
   "id": "bc752927",
   "metadata": {},
   "outputs": [],
   "source": [
    "def relu(x):\n",
    "    return np.maximum(0,x)"
   ]
  },
  {
   "cell_type": "code",
   "execution_count": 29,
   "id": "9c3901d4",
   "metadata": {},
   "outputs": [
    {
     "name": "stdout",
     "output_type": "stream",
     "text": [
      "[1 2 3 4]\n",
      "1\n",
      "(4,)\n",
      "4\n"
     ]
    }
   ],
   "source": [
    "# 3.3 다차원 배열의 계산\n",
    "\n",
    "A = np.array([1,2,3,4])\n",
    "print(A)\n",
    "print(np.ndim(A))\n",
    "print(A.shape)\n",
    "print(A.shape[0])"
   ]
  },
  {
   "cell_type": "code",
   "execution_count": 34,
   "id": "29455b67",
   "metadata": {},
   "outputs": [
    {
     "name": "stdout",
     "output_type": "stream",
     "text": [
      "B\n",
      " [[1 2]\n",
      " [3 4]\n",
      " [5 6]]\n",
      "\n",
      "np.ndim(B)\n",
      " 2\n",
      "\n",
      "B.shape \n",
      " (3, 2)\n"
     ]
    }
   ],
   "source": [
    "B = np.array([[1,2],[3,4],[5,6]])\n",
    "print(f\"B\\n {B}\")\n",
    "print(f\"\\nnp.ndim(B)\\n {np.ndim(B)}\")\n",
    "print(f\"\\nB.shape \\n {B.shape}\")"
   ]
  },
  {
   "cell_type": "code",
   "execution_count": 38,
   "id": "26e19c93",
   "metadata": {},
   "outputs": [
    {
     "name": "stdout",
     "output_type": "stream",
     "text": [
      "(2, 2) \n",
      "\n",
      "(2, 2) \n",
      "\n",
      "[[19 22]\n",
      " [43 50]]\n"
     ]
    }
   ],
   "source": [
    "A = np.array([[1,2],[3,4]])\n",
    "print(A.shape,\"\\n\")\n",
    "B = np.array([[5,6],[7,8]])\n",
    "print(B.shape,\"\\n\")\n",
    "print(np.dot(A,B))"
   ]
  },
  {
   "cell_type": "code",
   "execution_count": 39,
   "id": "d76f6e32",
   "metadata": {},
   "outputs": [
    {
     "name": "stdout",
     "output_type": "stream",
     "text": [
      "(2, 3)\n",
      "(3, 2)\n",
      "[[22 28]\n",
      " [49 64]]\n"
     ]
    }
   ],
   "source": [
    "A = np.array([[1,2,3],[4,5,6]])\n",
    "print(A.shape)\n",
    "B = np.array([[1,2],[3,4],[5,6]])\n",
    "print(B.shape)\n",
    "print(np.dot(A,B))"
   ]
  },
  {
   "cell_type": "code",
   "execution_count": 41,
   "id": "3750847b",
   "metadata": {},
   "outputs": [
    {
     "name": "stdout",
     "output_type": "stream",
     "text": [
      "(2, 2)\n",
      "(2, 3)\n"
     ]
    },
    {
     "ename": "ValueError",
     "evalue": "shapes (2,3) and (2,2) not aligned: 3 (dim 1) != 2 (dim 0)",
     "output_type": "error",
     "traceback": [
      "\u001b[1;31m---------------------------------------------------------------------------\u001b[0m",
      "\u001b[1;31mValueError\u001b[0m                                Traceback (most recent call last)",
      "\u001b[1;32m~\\AppData\\Local\\Temp/ipykernel_10052/576180214.py\u001b[0m in \u001b[0;36m<module>\u001b[1;34m\u001b[0m\n\u001b[0;32m      2\u001b[0m \u001b[0mprint\u001b[0m\u001b[1;33m(\u001b[0m\u001b[0mC\u001b[0m\u001b[1;33m.\u001b[0m\u001b[0mshape\u001b[0m\u001b[1;33m)\u001b[0m\u001b[1;33m\u001b[0m\u001b[1;33m\u001b[0m\u001b[0m\n\u001b[0;32m      3\u001b[0m \u001b[0mprint\u001b[0m\u001b[1;33m(\u001b[0m\u001b[0mA\u001b[0m\u001b[1;33m.\u001b[0m\u001b[0mshape\u001b[0m\u001b[1;33m)\u001b[0m\u001b[1;33m\u001b[0m\u001b[1;33m\u001b[0m\u001b[0m\n\u001b[1;32m----> 4\u001b[1;33m \u001b[0mprint\u001b[0m\u001b[1;33m(\u001b[0m\u001b[0mnp\u001b[0m\u001b[1;33m.\u001b[0m\u001b[0mdot\u001b[0m\u001b[1;33m(\u001b[0m\u001b[0mA\u001b[0m\u001b[1;33m,\u001b[0m\u001b[0mC\u001b[0m\u001b[1;33m)\u001b[0m\u001b[1;33m)\u001b[0m\u001b[1;33m\u001b[0m\u001b[1;33m\u001b[0m\u001b[0m\n\u001b[0m",
      "\u001b[1;32m<__array_function__ internals>\u001b[0m in \u001b[0;36mdot\u001b[1;34m(*args, **kwargs)\u001b[0m\n",
      "\u001b[1;31mValueError\u001b[0m: shapes (2,3) and (2,2) not aligned: 3 (dim 1) != 2 (dim 0)"
     ]
    }
   ],
   "source": [
    "C = np.array([[1,2],[3,4]])\n",
    "print(C.shape)\n",
    "print(A.shape)\n",
    "print(np.dot(A,C))"
   ]
  },
  {
   "cell_type": "code",
   "execution_count": 43,
   "id": "a7eff4d1",
   "metadata": {},
   "outputs": [
    {
     "name": "stdout",
     "output_type": "stream",
     "text": [
      "(3, 2)\n",
      "(2,)\n",
      "[23 53 83]\n"
     ]
    }
   ],
   "source": [
    "A = np.array([[1,2],[3,4],[5,6]])\n",
    "print(A.shape)\n",
    "B = np.array([7,8])\n",
    "print(B.shape)\n",
    "print(np.dot(A,B))"
   ]
  },
  {
   "cell_type": "code",
   "execution_count": 45,
   "id": "16a3e302",
   "metadata": {},
   "outputs": [
    {
     "name": "stdout",
     "output_type": "stream",
     "text": [
      "X.shape \n",
      " (2,)\n",
      "\n",
      "W \n",
      " [[1 3 5]\n",
      " [2 4 6]]\n",
      "\n",
      "W.shape \n",
      " (2, 3)\n",
      "\n",
      "Y \n",
      " [ 5 11 17]\n",
      "\n"
     ]
    }
   ],
   "source": [
    "X = np.array([1,2])\n",
    "print(f'X.shape \\n {X. shape}\\n')\n",
    "W = np.array([[1,3,5],[2,4,6]])\n",
    "print(f'W \\n {W}\\n')\n",
    "print(f'W.shape \\n {W.shape}\\n')\n",
    "Y = np.dot(X, W)\n",
    "print(f'Y \\n {Y}\\n')"
   ]
  },
  {
   "cell_type": "code",
   "execution_count": 46,
   "id": "199343d5",
   "metadata": {},
   "outputs": [
    {
     "name": "stdout",
     "output_type": "stream",
     "text": [
      "W1.shape \n",
      " (2, 3)\n",
      "\n",
      "X.shape \n",
      " (2,)\n",
      "\n",
      "B1.shape \n",
      " (3,)\n",
      "\n"
     ]
    }
   ],
   "source": [
    "# 3.4 3층 신경망 구현하기\n",
    "\n",
    "X = np.array([1.0,0.5])\n",
    "W1 = np.array([[0.1,0.3,0.5], [0.2,0.4,0.6]])\n",
    "B1 = np.array([0.1,0.2,0.3])\n",
    "\n",
    "print(f'W1.shape \\n {W1.shape}\\n')\n",
    "print(f'X.shape \\n {X.shape}\\n')\n",
    "print(f'B1.shape \\n {B1.shape}\\n')\n",
    "\n",
    "A1 = np.dot(X, W1) + B1"
   ]
  },
  {
   "cell_type": "code",
   "execution_count": 47,
   "id": "f098666e",
   "metadata": {},
   "outputs": [
    {
     "name": "stdout",
     "output_type": "stream",
     "text": [
      "A1 \n",
      " [0.3 0.7 1.1]\n",
      "Z1 \n",
      " [0.57444252 0.66818777 0.75026011]\n"
     ]
    }
   ],
   "source": [
    "Z1 = sigmoid(A1)\n",
    "print(f'A1 \\n {A1}')\n",
    "print(f'Z1 \\n {Z1}')"
   ]
  },
  {
   "cell_type": "code",
   "execution_count": 48,
   "id": "dd9c9aa9",
   "metadata": {},
   "outputs": [
    {
     "name": "stdout",
     "output_type": "stream",
     "text": [
      "Z1.shape \n",
      " (3,)\n",
      "W2.shape \n",
      " (3, 2)\n",
      "B2.shape \n",
      " (2,)\n"
     ]
    }
   ],
   "source": [
    "W2 = np.array([[0.1,0.4],[0.2,0.5],[0.3,0.6]])\n",
    "B2 = np.array([0.1,0.2])\n",
    "\n",
    "print(f'Z1.shape \\n {Z1.shape}')\n",
    "print(f'W2.shape \\n {W2.shape}')\n",
    "print(f'B2.shape \\n {B2.shape}')\n",
    "\n",
    "A2 = np.dot(Z1,W2) + B2\n",
    "Z2 = sigmoid(A2)"
   ]
  },
  {
   "cell_type": "code",
   "execution_count": 49,
   "id": "5a34b189",
   "metadata": {},
   "outputs": [],
   "source": [
    "def identity_function(x):\n",
    "    return x\n",
    "\n",
    "W3 = np.array([[0.1, 0.3],[0.2,0.4]])\n",
    "B3 = np.array([0.1,0.2])\n",
    "\n",
    "A3 = np.dot(Z2, W3) + B3\n",
    "Y = identity_function(A3)"
   ]
  },
  {
   "cell_type": "code",
   "execution_count": 51,
   "id": "81bd2ef4",
   "metadata": {},
   "outputs": [
    {
     "name": "stdout",
     "output_type": "stream",
     "text": [
      "[0.31682708 0.69627909]\n"
     ]
    }
   ],
   "source": [
    "def init_network():\n",
    "    network = {}\n",
    "    network['W1'] = np.array([[0.1,0.3,0.5],[0.2,0.4,0.6]])\n",
    "    network['b1'] = np.array([0.1,0.2,0.3])\n",
    "    network['W2'] = np.array([[0.1,0.4],[0.2,0.5],[0.3,0.6]])\n",
    "    network['b2'] = np.array([0.1,0.2])\n",
    "    network['W3'] = np.array([[0.1,0.3],[0.2,0.4]])\n",
    "    network['b3'] = np.array([0.1,0.2])\n",
    "    \n",
    "    return network\n",
    "\n",
    "def forward(network, x):\n",
    "    W1, W2, W3 = network['W1'], network['W2'], network['W3']\n",
    "    b1, b2, b3 = network['b1'], network['b2'], network['b3']\n",
    "\n",
    "    a1 = np.dot(x, W1) + b1\n",
    "    z1 = sigmoid(a1)\n",
    "    a2 = np.dot(z1, W2) + b2\n",
    "    z2 = sigmoid(a2)\n",
    "    a3 = np.dot(z2, W3) + b3\n",
    "    y = identity_function(a3)\n",
    "    \n",
    "    return y\n",
    "    \n",
    "network =init_network()\n",
    "x = np.array([1.0, 0.5])\n",
    "y = forward(network,x)\n",
    "print(y)"
   ]
  },
  {
   "cell_type": "code",
   "execution_count": 54,
   "id": "45c82290",
   "metadata": {},
   "outputs": [
    {
     "name": "stdout",
     "output_type": "stream",
     "text": [
      "exp_a \n",
      " [ 1.34985881 18.17414537 54.59815003]\n",
      "sum_exp_a \n",
      " 74.1221542101633\n",
      "y (exp_a / sum_exp_a) \n",
      " [0.01821127 0.24519181 0.73659691]\n"
     ]
    }
   ],
   "source": [
    "# 3.5 출력측 설계하기\n",
    "\n",
    "a = np.array([0.3,2.9,4.0])\n",
    "\n",
    "exp_a = np.exp(a)\n",
    "print(f'exp_a \\n {exp_a}')\n",
    "sum_exp_a = np.sum(exp_a)\n",
    "print(f'sum_exp_a \\n {sum_exp_a}')\n",
    "y = exp_a /sum_exp_a\n",
    "print(f'y (exp_a / sum_exp_a) \\n {y}')"
   ]
  },
  {
   "cell_type": "code",
   "execution_count": 55,
   "id": "15c311a6",
   "metadata": {},
   "outputs": [],
   "source": [
    "def softmax(a):\n",
    "    exp_a = np.exp(a)\n",
    "    sum_exp_a = np.sum(exp_a)\n",
    "    y = exp_a / sum_exp_a\n",
    "    \n",
    "    return y"
   ]
  },
  {
   "cell_type": "code",
   "execution_count": 57,
   "id": "4689fab6",
   "metadata": {},
   "outputs": [
    {
     "name": "stdout",
     "output_type": "stream",
     "text": [
      "np.exp(a) / np.sum(np.exp(a) \n",
      " [nan nan nan]\n",
      "a - c \n",
      " [  0 -10 -20]\n",
      "np.exp(a - c) / np.sum(np.exp(a - c)) \n",
      " [9.99954600e-01 4.53978686e-05 2.06106005e-09]\n"
     ]
    },
    {
     "name": "stderr",
     "output_type": "stream",
     "text": [
      "C:\\Users\\82108\\AppData\\Local\\Temp/ipykernel_10052/3255973541.py:2: RuntimeWarning: overflow encountered in exp\n",
      "  print(f'np.exp(a) / np.sum(np.exp(a) \\n {np.exp(a) / np.sum(np.exp(a))}')\n",
      "C:\\Users\\82108\\AppData\\Local\\Temp/ipykernel_10052/3255973541.py:2: RuntimeWarning: invalid value encountered in true_divide\n",
      "  print(f'np.exp(a) / np.sum(np.exp(a) \\n {np.exp(a) / np.sum(np.exp(a))}')\n"
     ]
    }
   ],
   "source": [
    "a = np.array([1010,1000,990])\n",
    "print(f'np.exp(a) / np.sum(np.exp(a) \\n {np.exp(a) / np.sum(np.exp(a))}')\n",
    "c = np.max(a)\n",
    "print(f'a - c \\n {a - c}')\n",
    "print(f'np.exp(a - c) / np.sum(np.exp(a - c)) \\n {np.exp(a - c) / np.sum(np.exp(a - c))}')"
   ]
  },
  {
   "cell_type": "code",
   "execution_count": 58,
   "id": "49a2e5f1",
   "metadata": {},
   "outputs": [],
   "source": [
    "def softmax(a):\n",
    "    c = np.max(a)\n",
    "    exp_a = np.exp(a - c) # 오버플로 대책\n",
    "    sum_exp_a = np.sum(exp_a)\n",
    "    y = exp_a / sum_exp_a\n",
    "    \n",
    "    return y"
   ]
  },
  {
   "cell_type": "code",
   "execution_count": 59,
   "id": "0ac9a2ed",
   "metadata": {},
   "outputs": [
    {
     "name": "stdout",
     "output_type": "stream",
     "text": [
      "y \n",
      " [0.01821127 0.24519181 0.73659691]\n",
      "np.sum(y) \n",
      " 1.0\n"
     ]
    }
   ],
   "source": [
    "a = np.array([0.3, 2.9, 4.0])\n",
    "y = softmax(a)\n",
    "print(f'y \\n {y}')\n",
    "print(f'np.sum(y) \\n {np.sum(y)}')"
   ]
  },
  {
   "cell_type": "code",
   "execution_count": 67,
   "id": "e66d6987",
   "metadata": {},
   "outputs": [
    {
     "name": "stdout",
     "output_type": "stream",
     "text": [
      "Converting train-images-idx3-ubyte.gz to NumPy Array ...\n",
      "Done\n",
      "Converting train-labels-idx1-ubyte.gz to NumPy Array ...\n",
      "Done\n",
      "Converting t10k-images-idx3-ubyte.gz to NumPy Array ...\n",
      "Done\n",
      "Converting t10k-labels-idx1-ubyte.gz to NumPy Array ...\n",
      "Done\n",
      "Creating pickle file ...\n",
      "Done!\n",
      "x_train.shape \n",
      " (60000, 784)\n",
      "t_train.shape \n",
      " (60000,)\n",
      "x_test.shape \n",
      " (10000, 784)\n",
      "t_test.shape \n",
      " (10000,)\n"
     ]
    }
   ],
   "source": [
    "# 3.6 손글씨 숫자 인식\n",
    "\n",
    "import sys, os\n",
    "sys.path.append('deep-learning-from-scratch-master') # 하위 디렉터리의 파일을 가져올 수 있도록 설정\n",
    "from dataset.mnist import load_mnist\n",
    "\n",
    "(x_train, t_train), (x_test, t_test) = load_mnist(flatten=True, normalize=False)\n",
    "\n",
    "print(f'x_train.shape \\n {x_train.shape}')\n",
    "print(f't_train.shape \\n {t_train.shape}')\n",
    "print(f'x_test.shape \\n {x_test.shape}')\n",
    "print(f't_test.shape \\n {t_test.shape}')"
   ]
  },
  {
   "cell_type": "code",
   "execution_count": 70,
   "id": "57c2134b",
   "metadata": {},
   "outputs": [
    {
     "name": "stdout",
     "output_type": "stream",
     "text": [
      "label \n",
      " 5\n",
      "img.shape \n",
      " (784,)\n",
      "img.shape \n",
      " (28, 28)\n"
     ]
    }
   ],
   "source": [
    "from PIL import Image\n",
    "\n",
    "def img_show(img):\n",
    "    pil_img = Image.fromarray(np.uint8(img))\n",
    "    pil_img.show()\n",
    "    \n",
    "img = x_train[0]\n",
    "label = t_train[0]\n",
    "print(f'label \\n {label}')\n",
    "\n",
    "print(f'img.shape \\n {img.shape}')\n",
    "img = img.reshape(28, 28)\n",
    "print(f'img.shape \\n {img.shape}')\n",
    "\n",
    "img_show(img)"
   ]
  },
  {
   "cell_type": "code",
   "execution_count": 79,
   "id": "0f69af11",
   "metadata": {},
   "outputs": [],
   "source": [
    "import pickle\n",
    "\n",
    "def get_data():\n",
    "    (x_train, t_train), (x_test, t_test) = load_mnist(normalize=True, flatten=True, one_hot_label=False)\n",
    "    return x_test, t_test\n",
    "\n",
    "def init_network():\n",
    "    with open(\"./deep-learning-from-scratch-master/ch03/sample_weight.pkl\", 'rb') as f:\n",
    "        network =pickle.load(f)\n",
    "    \n",
    "    return network\n",
    "\n",
    "def predict(network, x):\n",
    "    W1 ,W2, W3 = network['W1'], network['W2'], network['W3']\n",
    "    b1 ,b2, b3 = network['b1'], network['b2'], network['b3']\n",
    "\n",
    "    a1 = np.dot(x, W1) + b1\n",
    "    z1 = sigmoid(a1)\n",
    "    a2 = np.dot(z1, W2) + b2\n",
    "    z2 = sigmoid(a2)\n",
    "    a3 = np.dot(z2, W3) + b3\n",
    "    y = softmax(a3)\n",
    "    \n",
    "    return y\n",
    "    "
   ]
  },
  {
   "cell_type": "code",
   "execution_count": 80,
   "id": "40fe8c14",
   "metadata": {},
   "outputs": [
    {
     "name": "stdout",
     "output_type": "stream",
     "text": [
      "Accuracy : 0.9352\n"
     ]
    }
   ],
   "source": [
    "x, t = get_data()\n",
    "network = init_network()\n",
    "\n",
    "accuracy_cnt = 0\n",
    "for i in range(len(x)):\n",
    "    y = predict(network, x[i])\n",
    "    p = np.argmax(y)\n",
    "    if p == t[i]:\n",
    "        accuracy_cnt += 1\n",
    "        \n",
    "print(\"Accuracy : \"+ str(float(accuracy_cnt) / len(x)))"
   ]
  },
  {
   "cell_type": "code",
   "execution_count": 81,
   "id": "cfa6bba6",
   "metadata": {},
   "outputs": [
    {
     "name": "stdout",
     "output_type": "stream",
     "text": [
      "x.shape \n",
      " (10000, 784)\n",
      "x[0].shape \n",
      " (784,)\n",
      "W1.shape \n",
      " (784, 50)\n",
      "W2.shape \n",
      " (50, 100)\n",
      "W3.shape \n",
      " (100, 10)\n"
     ]
    }
   ],
   "source": [
    "x, _ = get_data()\n",
    "network = init_network()\n",
    "W1, W2, W3 = network['W1'], network['W2'], network['W3']\n",
    "\n",
    "print(f'x.shape \\n {x.shape}')\n",
    "print(f'x[0].shape \\n {x[0].shape}')\n",
    "print(f'W1.shape \\n {W1.shape}')\n",
    "print(f'W2.shape \\n {W2.shape}')\n",
    "print(f'W3.shape \\n {W3.shape}')"
   ]
  },
  {
   "cell_type": "code",
   "execution_count": 83,
   "id": "66b6f182",
   "metadata": {},
   "outputs": [
    {
     "name": "stdout",
     "output_type": "stream",
     "text": [
      "Accuracy : 0.9352\n"
     ]
    }
   ],
   "source": [
    "x, t = get_data()\n",
    "network = init_network()\n",
    "\n",
    "batch_size = 100\n",
    "accuracy_cnt = 0\n",
    "\n",
    "for i in range(0, len(x), batch_size):\n",
    "    x_batch = x[i:i+batch_size]\n",
    "    y_batch = predict(network, x_batch)\n",
    "    p = np.argmax(y_batch, axis = 1)\n",
    "    accuracy_cnt += np.sum(p == t[i:i+batch_size])\n",
    "    \n",
    "print(\"Accuracy : \" + str(float(accuracy_cnt) / len(x)))"
   ]
  },
  {
   "cell_type": "code",
   "execution_count": 85,
   "id": "64d41b4f",
   "metadata": {},
   "outputs": [
    {
     "name": "stdout",
     "output_type": "stream",
     "text": [
      "list(range(0 , 10)) \n",
      " [0, 1, 2, 3, 4, 5, 6, 7, 8, 9]\n",
      "list(range(0, 10 ,3)) \n",
      " [0, 3, 6, 9]\n"
     ]
    }
   ],
   "source": [
    "print(f'list(range(0 , 10)) \\n {list(range(0, 10))}')\n",
    "print(f\"list(range(0, 10 ,3)) \\n {list(range(0, 10, 3))}\")"
   ]
  },
  {
   "cell_type": "code",
   "execution_count": 88,
   "id": "10be778d",
   "metadata": {},
   "outputs": [
    {
     "name": "stdout",
     "output_type": "stream",
     "text": [
      "y \n",
      " [1 2 1 0]\n"
     ]
    }
   ],
   "source": [
    "x = np.array([[0.1, 0.8, 0.1], [0.3, 0.1, 0.6], [0.2, 0.5, 0.3], [0.8, 0.1, 0.1]])\n",
    "y = np.argmax(x, axis=1)\n",
    "print(f'y \\n {y}')"
   ]
  },
  {
   "cell_type": "code",
   "execution_count": null,
   "id": "882452fa",
   "metadata": {},
   "outputs": [],
   "source": []
  }
 ],
 "metadata": {
  "kernelspec": {
   "display_name": "Python 3 (ipykernel)",
   "language": "python",
   "name": "python3"
  },
  "language_info": {
   "codemirror_mode": {
    "name": "ipython",
    "version": 3
   },
   "file_extension": ".py",
   "mimetype": "text/x-python",
   "name": "python",
   "nbconvert_exporter": "python",
   "pygments_lexer": "ipython3",
   "version": "3.9.7"
  }
 },
 "nbformat": 4,
 "nbformat_minor": 5
}

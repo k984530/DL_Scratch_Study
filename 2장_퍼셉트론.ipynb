{
 "cells": [
  {
   "cell_type": "code",
   "execution_count": 1,
   "id": "51f1dab7",
   "metadata": {},
   "outputs": [],
   "source": [
    "def AND(x1, x2):\n",
    "    w1, w2, theta = 0.5, 0.5, 0.7\n",
    "    tmp = x1 * w1 + x2 * w2\n",
    "    if tmp <= theta:\n",
    "        return 0\n",
    "    elif tmp > theta:\n",
    "        return 1"
   ]
  },
  {
   "cell_type": "code",
   "execution_count": 3,
   "id": "d534655f",
   "metadata": {},
   "outputs": [
    {
     "name": "stdout",
     "output_type": "stream",
     "text": [
      "0 0 0 1\n"
     ]
    }
   ],
   "source": [
    "print(AND(0,0),\n",
    "AND(1,0),\n",
    "AND(0,1),\n",
    "AND(1,1),)"
   ]
  },
  {
   "cell_type": "code",
   "execution_count": 4,
   "id": "a27cb715",
   "metadata": {},
   "outputs": [],
   "source": [
    "import numpy as np\n",
    "x = np.array([0,1])\n",
    "w = np.array([0.5,0.5])\n",
    "b =  -0.7"
   ]
  },
  {
   "cell_type": "code",
   "execution_count": 5,
   "id": "e95ff2f0",
   "metadata": {},
   "outputs": [
    {
     "data": {
      "text/plain": [
       "array([0. , 0.5])"
      ]
     },
     "execution_count": 5,
     "metadata": {},
     "output_type": "execute_result"
    }
   ],
   "source": [
    "w*x"
   ]
  },
  {
   "cell_type": "code",
   "execution_count": 6,
   "id": "35e7dbb2",
   "metadata": {},
   "outputs": [
    {
     "data": {
      "text/plain": [
       "0.5"
      ]
     },
     "execution_count": 6,
     "metadata": {},
     "output_type": "execute_result"
    }
   ],
   "source": [
    "np.sum (w*x)"
   ]
  },
  {
   "cell_type": "code",
   "execution_count": 7,
   "id": "239610cb",
   "metadata": {},
   "outputs": [
    {
     "data": {
      "text/plain": [
       "-0.19999999999999996"
      ]
     },
     "execution_count": 7,
     "metadata": {},
     "output_type": "execute_result"
    }
   ],
   "source": [
    "np.sum(w*x) + b"
   ]
  },
  {
   "cell_type": "code",
   "execution_count": 10,
   "id": "182784ba",
   "metadata": {},
   "outputs": [],
   "source": [
    "def tool(x1, x2,w1, w2 ,b1):\n",
    "    x = np.array([x1, x2])\n",
    "    w = np.array([w1, w2])\n",
    "    b = b1\n",
    "    tmp = np.sum(w*x) + b\n",
    "    if tmp <= 0:\n",
    "        return 0\n",
    "    else:\n",
    "        return 1\n",
    "\n",
    "\n",
    "def AND(x1, x2):\n",
    "    return tool(x1,x2,0.5,0.5,-0.7)\n",
    "\n",
    "def NAND(x1,x2):\n",
    "    return tool(x1,x2,-0.5,-0.5,0.7)\n",
    "\n",
    "def OR(x1,x2):\n",
    "    return tool(x1,x2,0.5,0.5,-0.2)"
   ]
  },
  {
   "cell_type": "code",
   "execution_count": 34,
   "id": "260327a9",
   "metadata": {},
   "outputs": [],
   "source": [
    "def XOR(x1,x2):\n",
    "    s1 = NAND(x1,x2)\n",
    "    s2 = OR(x1,x2)\n",
    "    return AND(s1,s2)    \n",
    "\n",
    "def test(func):\n",
    "    print(func.__name__)\n",
    "    for i in range(2):\n",
    "        for j in range(2):\n",
    "            print(f'{i}   {j}  =  {func(i,j)}')"
   ]
  },
  {
   "cell_type": "code",
   "execution_count": 35,
   "id": "69559334",
   "metadata": {},
   "outputs": [
    {
     "name": "stdout",
     "output_type": "stream",
     "text": [
      "XOR\n",
      "0   0  =  0\n",
      "0   1  =  1\n",
      "1   0  =  1\n",
      "1   1  =  0\n"
     ]
    }
   ],
   "source": [
    "test(XOR)"
   ]
  }
 ],
 "metadata": {
  "kernelspec": {
   "display_name": "Python 3 (ipykernel)",
   "language": "python",
   "name": "python3"
  },
  "language_info": {
   "codemirror_mode": {
    "name": "ipython",
    "version": 3
   },
   "file_extension": ".py",
   "mimetype": "text/x-python",
   "name": "python",
   "nbconvert_exporter": "python",
   "pygments_lexer": "ipython3",
   "version": "3.9.7"
  }
 },
 "nbformat": 4,
 "nbformat_minor": 5
}
